{
  "nbformat": 4,
  "nbformat_minor": 0,
  "metadata": {
    "colab": {
      "provenance": []
    },
    "kernelspec": {
      "name": "python3",
      "display_name": "Python 3"
    },
    "language_info": {
      "name": "python"
    }
  },
  "cells": [
    {
      "cell_type": "markdown",
      "source": [],
      "metadata": {
        "id": "1_IGRYZBSnOf"
      }
    },
    {
      "cell_type": "markdown",
      "source": [
        "#Python Basics Questions\n",
        "#1. What is Python, and why is it popular?\n",
        "#Ans -  Python is a high-level, interpreted programming language known for its simplicity, readability, and versatility. It is used in various domains like web development, data analysis, artificial intelligence, scientific computing, and automation. Python is popular because of its easy-to-understand syntax, a large supportive community, and a vast number of libraries and frameworks that simplify development.\n",
        "#2. What is an interpreter in Python?\n",
        "#Ans -  An interpreter in Python is a program that reads and executes Python code line by line. Unlike compilers, which translate the entire code into machine code at once, an interpreter processes code in a sequential manner, making it easier to debug.\n",
        "#3. What are pre-defined keywords in Python?\n",
        "#Ans -  Pre-defined keywords in Python are reserved words that have a specific meaning in the language and cannot be used as variable names. They are part of Python's syntax and include words like if, else, while, for, def, class, try, except, etc.\n",
        "#4. Can keywords be used as variable names?\n",
        "#Ans - No, keywords cannot be used as variable names in Python. They are reserved for specific programming purposes and are fundamental to the structure and flow of the language.\n",
        "#5. What is mutability in Python?\n",
        "#Ans - Mutability in Python refers to the ability of an object to be changed after it is created. Mutable objects can have their contents altered, while immutable objects cannot. Lists are mutable because you can modify them (add, remove, change items), while strings and tuples are immutable.\n",
        "#6. Why are lists mutable, but tuples are immutable?\n",
        "#Ans - Lists are mutable in Python because they are designed to allow modification of their elements (adding, removing, or modifying items). Tuples, on the other hand, are immutable to ensure their elements remain constant throughout the program, which can help avoid accidental modifications and improve performance in some cases.\n",
        "#7. What is the difference between “==” and “is” operators in Python?\n",
        "#Ans - ==: Compares the values of two objects. It checks if the values are the same.\n",
        "#Ans - is: Compares the identity of two objects. It checks if both objects point to the same memory location.\n",
        "#8. What are logical operators in Python?\n",
        "#Ans - Logical operators in Python are used to combine conditional statements. The primary logical operators are:\n",
        "#and: Returns True if both conditions are true.\n",
        "#or: Returns True if at least one condition is true.\n",
        "#not: Reverses the truth value of the condition.\n",
        "\n",
        "#9. What is type casting in Python?\n",
        "#Ans - Type casting in Python refers to converting one data type into another. It can be done explicitly using functions like int(), float(), str(), etc., or implicitly when Python automatically converts one type to another.\n",
        "#10. What is the difference between implicit and explicit type casting?\n",
        "#Ans - Implicit type casting: This is done automatically by Python when converting one data type to another (e.g., converting an integer to a float in arithmetic operations).\n",
        "#Ans - Explicit type casting: This is when the programmer manually converts one data type to another using functions like int(), str(), float(), etc.\n",
        "#11. What is the purpose of conditional statements in Python?\n",
        "#Ans - Conditional statements in Python allow you to execute certain blocks of code based on whether a condition is true or false. The main conditional statements are if, elif, and else, and they help control the flow of a program by making decisions.\n",
        "#12. How does the elif statement work?\n",
        "#Ans - The elif (short for \"else if\") statement is used in Python to check multiple conditions. It allows you to test several expressions and execute a block of code when the first condition is false but a subsequent condition is true. If none of the elif conditions are true, the code in the else block will execute.\n",
        "#13. What is the difference between for and while loops?\n",
        "#Ans - For loop: Used to iterate over a sequence (like a list, tuple, or string) or a range of numbers. It is used when the number of iterations is known beforehand.\n",
        "#Ans - While loop: Used to repeat a block of code as long as a condition is true. It is used when the number of iterations is not known in advance and depends on the evaluation of a condition.\n",
        "#14. Describe a scenario where a while loop is more suitable than a for loop.\n",
        "#Ans - A while loop is more suitable when you don't know in advance how many times you need to iterate. For example, if you want to continue prompting a user for input until they enter a valid response, a while loop is ideal because you don't know beforehand how many tries the user will need.\n",
        "\n"
      ],
      "metadata": {
        "id": "N8n99ppCSqVH"
      }
    },
    {
      "cell_type": "code",
      "source": [
        "#1. Write a Python program to print \"Hello, World!\"\n",
        "print(\"Hello, World!\")\n"
      ],
      "metadata": {
        "colab": {
          "base_uri": "https://localhost:8080/"
        },
        "id": "NsjxlonfSw5A",
        "outputId": "8f790b64-62a4-4517-fa66-9e12599ef8a3"
      },
      "execution_count": 1,
      "outputs": [
        {
          "output_type": "stream",
          "name": "stdout",
          "text": [
            "Hello, World!\n"
          ]
        }
      ]
    },
    {
      "cell_type": "code",
      "source": [
        "#2. Write a Python program that displays your name and age\n",
        "name = \"Vivek Singh\"\n",
        "age = 25\n",
        "print(\"Name:\", name)\n",
        "print(\"Age:\", age)\n"
      ],
      "metadata": {
        "colab": {
          "base_uri": "https://localhost:8080/"
        },
        "id": "StDN2IwGS7FA",
        "outputId": "7ec7193e-dd50-4703-fa23-ad189f246b67"
      },
      "execution_count": 2,
      "outputs": [
        {
          "output_type": "stream",
          "name": "stdout",
          "text": [
            "Name: Vivek Singh\n",
            "Age: 25\n"
          ]
        }
      ]
    },
    {
      "cell_type": "code",
      "source": [
        "#3. Write code to print all the pre-defined keywords in Python using the keyword library\n",
        "import keyword\n",
        "print(keyword.kwlist)\n"
      ],
      "metadata": {
        "colab": {
          "base_uri": "https://localhost:8080/"
        },
        "id": "T2DGHWl_S_5o",
        "outputId": "9d2d61e7-746b-4d7a-de98-fb4580f317a9"
      },
      "execution_count": 3,
      "outputs": [
        {
          "output_type": "stream",
          "name": "stdout",
          "text": [
            "['False', 'None', 'True', 'and', 'as', 'assert', 'async', 'await', 'break', 'class', 'continue', 'def', 'del', 'elif', 'else', 'except', 'finally', 'for', 'from', 'global', 'if', 'import', 'in', 'is', 'lambda', 'nonlocal', 'not', 'or', 'pass', 'raise', 'return', 'try', 'while', 'with', 'yield']\n"
          ]
        }
      ]
    },
    {
      "cell_type": "code",
      "source": [
        "#4. Write a program that checks if a given word is a Python keyword\n",
        "import keyword\n",
        "word = input(\"Enter a word: \")\n",
        "if keyword.iskeyword(word):\n",
        "    print(f\"{word} is a Python keyword.\")\n",
        "else:\n",
        "    print(f\"{word} is not a Python keyword.\")\n"
      ],
      "metadata": {
        "colab": {
          "base_uri": "https://localhost:8080/"
        },
        "id": "a2Dz6mq9TPe4",
        "outputId": "c7c59158-5785-4829-bf17-45d034f6e8a8"
      },
      "execution_count": 4,
      "outputs": [
        {
          "output_type": "stream",
          "name": "stdout",
          "text": [
            "Enter a word: Vivek\n",
            "Vivek is not a Python keyword.\n"
          ]
        }
      ]
    },
    {
      "cell_type": "code",
      "source": [
        "#5. Create a list and tuple in Python, and demonstrate how attempting to change an element works differently for each\n",
        "# List (mutable)\n",
        "my_list = [1, 2, 3]\n",
        "my_list[0] = 10\n",
        "print(\"Modified list:\", my_list)\n",
        "\n",
        "# Tuple (immutable)\n",
        "my_tuple = (1, 2, 3)\n",
        "try:\n",
        "    my_tuple[0] = 10\n",
        "except TypeError as e:\n",
        "    print(\"Error:\", e)\n"
      ],
      "metadata": {
        "colab": {
          "base_uri": "https://localhost:8080/"
        },
        "id": "W1YoP3KgTdXQ",
        "outputId": "572f6ef3-b316-426e-ba85-5d2d518522fa"
      },
      "execution_count": 5,
      "outputs": [
        {
          "output_type": "stream",
          "name": "stdout",
          "text": [
            "Modified list: [10, 2, 3]\n",
            "Error: 'tuple' object does not support item assignment\n"
          ]
        }
      ]
    },
    {
      "cell_type": "code",
      "source": [
        "#6. Write a function to demonstrate the behavior of mutable and immutable arguments\n",
        "def modify_arguments(mutable_arg, immutable_arg):\n",
        "    mutable_arg.append(4)\n",
        "    try:\n",
        "        immutable_arg = 10\n",
        "    except TypeError as e:\n",
        "        print(\"Error modifying immutable argument:\", e)\n",
        "\n",
        "    print(\"Modified mutable argument:\", mutable_arg)\n",
        "    print(\"Immutable argument (unchanged):\", immutable_arg)\n",
        "\n",
        "# Calling the function\n",
        "mutable_list = [1, 2, 3]\n",
        "immutable_num = 5\n",
        "modify_arguments(mutable_list, immutable_num)\n"
      ],
      "metadata": {
        "colab": {
          "base_uri": "https://localhost:8080/"
        },
        "id": "hcQN7OnmTzuo",
        "outputId": "5914eb4a-768f-4548-9db7-ecaf09a32e98"
      },
      "execution_count": 6,
      "outputs": [
        {
          "output_type": "stream",
          "name": "stdout",
          "text": [
            "Modified mutable argument: [1, 2, 3, 4]\n",
            "Immutable argument (unchanged): 10\n"
          ]
        }
      ]
    },
    {
      "cell_type": "code",
      "source": [
        "#7. Write a program to demonstrate the use of logical operators\n",
        "x = 10\n",
        "y = 20\n",
        "print(\"x > 5 and y < 25:\", x > 5 and y < 25)\n",
        "print(\"x > 15 or y < 25:\", x > 15 or y < 25)\n",
        "print(\"not(x > 5):\", not(x > 5))\n"
      ],
      "metadata": {
        "colab": {
          "base_uri": "https://localhost:8080/"
        },
        "id": "tjXScOxGUEhQ",
        "outputId": "cf57e76a-cb31-4a42-85d3-b38157afb9ca"
      },
      "execution_count": 7,
      "outputs": [
        {
          "output_type": "stream",
          "name": "stdout",
          "text": [
            "x > 5 and y < 25: True\n",
            "x > 15 or y < 25: True\n",
            "not(x > 5): False\n"
          ]
        }
      ]
    },
    {
      "cell_type": "code",
      "source": [
        "#8. Write a Python program to convert user input from string to integer, float, and boolean types\n",
        "user_input = input(\"Enter a value: \")\n",
        "\n",
        "# Convert to integer\n",
        "integer_value = int(user_input)\n",
        "print(f\"Converted to integer: {integer_value}\")\n",
        "\n",
        "# Convert to float\n",
        "float_value = float(user_input)\n",
        "print(f\"Converted to float: {float_value}\")\n",
        "\n",
        "# Convert to boolean\n",
        "boolean_value = bool(user_input)\n",
        "print(f\"Converted to boolean: {boolean_value}\")\n"
      ],
      "metadata": {
        "colab": {
          "base_uri": "https://localhost:8080/"
        },
        "id": "awfVqggEUniY",
        "outputId": "04848427-07aa-4231-b989-2c42fcbb8c1f"
      },
      "execution_count": 8,
      "outputs": [
        {
          "output_type": "stream",
          "name": "stdout",
          "text": [
            "Enter a value: 100\n",
            "Converted to integer: 100\n",
            "Converted to float: 100.0\n",
            "Converted to boolean: True\n"
          ]
        }
      ]
    },
    {
      "cell_type": "code",
      "source": [
        "#9. Write code to demonstrate type casting with list elements\n",
        "my_list = [\"10\", \"20\", \"30\"]\n",
        "# Convert all elements to integers\n",
        "int_list = [int(x) for x in my_list]\n",
        "print(f\"List after type casting to integers: {int_list}\")\n"
      ],
      "metadata": {
        "colab": {
          "base_uri": "https://localhost:8080/"
        },
        "id": "sQhQoe0tUyGf",
        "outputId": "5527f739-84e4-4afc-de80-0a5c09bcbd36"
      },
      "execution_count": 9,
      "outputs": [
        {
          "output_type": "stream",
          "name": "stdout",
          "text": [
            "List after type casting to integers: [10, 20, 30]\n"
          ]
        }
      ]
    },
    {
      "cell_type": "code",
      "source": [
        "#10. Write a program that checks if a number is positive, negative, or zero\n",
        "num = float(input(\"Enter a number: \"))\n",
        "if num > 0:\n",
        "    print(\"The number is positive.\")\n",
        "elif num < 0:\n",
        "    print(\"The number is negative.\")\n",
        "else:\n",
        "    print(\"The number is zero.\")\n"
      ],
      "metadata": {
        "colab": {
          "base_uri": "https://localhost:8080/"
        },
        "id": "oO9_RHMAVBhn",
        "outputId": "ed0e5d0b-dddd-417d-c1b2-dada8057d5df"
      },
      "execution_count": 11,
      "outputs": [
        {
          "output_type": "stream",
          "name": "stdout",
          "text": [
            "Enter a number: 50\n",
            "The number is positive.\n"
          ]
        }
      ]
    },
    {
      "cell_type": "code",
      "source": [
        "#11. Write a for loop to print numbers from 1 to 10\n",
        "for i in range(1, 11):\n",
        "    print(i, end=\" \")\n"
      ],
      "metadata": {
        "colab": {
          "base_uri": "https://localhost:8080/"
        },
        "id": "5P9x-P7hVTwo",
        "outputId": "d76bb055-7da9-4271-c755-91353b008d37"
      },
      "execution_count": 13,
      "outputs": [
        {
          "output_type": "stream",
          "name": "stdout",
          "text": [
            "1 2 3 4 5 6 7 8 9 10 "
          ]
        }
      ]
    },
    {
      "cell_type": "code",
      "source": [
        "#12. Write a Python program to find the sum of all even numbers between 1 and 50\n",
        "even_sum = sum(range(2, 51, 2))\n",
        "print(f\"The sum of all even numbers between 1 and 50 is: {even_sum}\")\n",
        "\n"
      ],
      "metadata": {
        "colab": {
          "base_uri": "https://localhost:8080/"
        },
        "id": "AOlSFmkYVYjv",
        "outputId": "02aad491-7d5c-4a9d-9e96-49480256cdc6"
      },
      "execution_count": 14,
      "outputs": [
        {
          "output_type": "stream",
          "name": "stdout",
          "text": [
            "The sum of all even numbers between 1 and 50 is: 650\n"
          ]
        }
      ]
    },
    {
      "cell_type": "code",
      "source": [
        "#13. Write a program to reverse a string using a while loop\n",
        "string = input(\"Enter a string: \")\n",
        "reversed_string = \"\"\n",
        "index = len(string) - 1\n",
        "\n",
        "while index >= 0:\n",
        "    reversed_string += string[index]\n",
        "    index -= 1\n",
        "\n",
        "print(\"Reversed string:\", reversed_string)\n"
      ],
      "metadata": {
        "colab": {
          "base_uri": "https://localhost:8080/"
        },
        "id": "76DtPJuuVeL3",
        "outputId": "7efd1b03-625c-41f2-885a-a4d046455214"
      },
      "execution_count": 15,
      "outputs": [
        {
          "output_type": "stream",
          "name": "stdout",
          "text": [
            "Enter a string: Vivek\n",
            "Reversed string: keviV\n"
          ]
        }
      ]
    },
    {
      "cell_type": "code",
      "source": [
        "#14. Write a Python program to calculate the factorial of a number provided by the user using a while loop\n",
        "num = int(input(\"Enter a number to find its factorial: \"))\n",
        "factorial = 1\n",
        "while num > 0:\n",
        "    factorial *= num\n",
        "    num -= 1\n",
        "\n",
        "print(f\"The factorial is: {factorial}\")\n"
      ],
      "metadata": {
        "colab": {
          "base_uri": "https://localhost:8080/"
        },
        "id": "Y8eRGceuVi0Q",
        "outputId": "9b4f5d44-9653-44c2-ec30-5d5f7ecc178e"
      },
      "execution_count": 16,
      "outputs": [
        {
          "output_type": "stream",
          "name": "stdout",
          "text": [
            "Enter a number to find its factorial: 30\n",
            "The factorial is: 265252859812191058636308480000000\n"
          ]
        }
      ]
    }
  ]
}